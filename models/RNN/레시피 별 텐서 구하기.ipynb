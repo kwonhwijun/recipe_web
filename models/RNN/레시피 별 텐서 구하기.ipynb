{
 "cells": [
  {
   "cell_type": "markdown",
   "id": "4968b6a2",
   "metadata": {},
   "source": [
    "## 학습된 모델을 통해 레시피 벡터 추출"
   ]
  },
  {
   "cell_type": "code",
   "execution_count": null,
   "id": "6beec11f",
   "metadata": {},
   "outputs": [],
   "source": [
    "# 식재료 RNN 모델 정의\n",
    "class RNNNoun(nn.Module):\n",
    "    def __init__(self, input_size, hidden_size, output_size):\n",
    "        super(RNNNoun, self).__init__()\n",
    "        self.hidden_size = hidden_size\n",
    "        self.dense = nn.Linear(input_size, hidden_size)  # Dense layer\n",
    "        self.rnn = nn.RNN(hidden_size, hidden_size, batch_first=True)\n",
    "        self.fc = nn.Linear(hidden_size, output_size)\n",
    "        self.softmax = nn.LogSoftmax(dim=1)\n",
    "\n",
    "    def forward(self, x):\n",
    "        x = self.dense(x)\n",
    "        h0 = torch.zeros(1, x.size(0), self.hidden_size)\n",
    "        out, _ = self.rnn(x, h0)\n",
    "        out1 = out[:, -1, :]\n",
    "        out2 = self.fc(out1)\n",
    "        out3 = self.softmax(out2)\n",
    "        return out1, out2, out3\n",
    "    \n",
    "# 저장된 모델 불러오기\n",
    "checkpoint = torch.load('model_checkpoint6.pth')\n",
    "\n",
    "# 모델과 옵티마이저 초기화\n",
    "model_noun = RNNNoun(checkpoint['input_size'], checkpoint['hidden_size'], checkpoint['output_size'])\n",
    "model_noun = model_noun.float()\n",
    "\n",
    "optimizer_noun = torch.optim.Adam(model_noun.parameters(), lr=0.001)\n",
    "criterion = nn.CrossEntropyLoss()\n",
    "\n",
    "# 불러온 모델의 상태와 옵티마이저 상태 적용\n",
    "model_noun.load_state_dict(checkpoint['model_state_dict'])\n",
    "optimizer_noun.load_state_dict(checkpoint['optimizer_state_dict'])"
   ]
  },
  {
   "cell_type": "code",
   "execution_count": null,
   "id": "0e878928",
   "metadata": {},
   "outputs": [],
   "source": [
    "# 식재료 벡터 불러오기\n",
    "import pickle\n",
    "with open('ingre.pickle', 'rb') as f:\n",
    "    test = pickle.load(f)\n",
    "    \n",
    "# 식재료 벡터 불러오기\n",
    "import pickle\n",
    "with open('sliced_verb_noun.pkl', 'rb') as f:\n",
    "    sliced_verb_noun = pickle.load(f)"
   ]
  },
  {
   "cell_type": "code",
   "execution_count": null,
   "id": "199dcac1",
   "metadata": {},
   "outputs": [],
   "source": [
    "# 100차원의 0으로 채워진 배열 생성\n",
    "dim = 100\n",
    "zero_array = np.zeros(dim)\n",
    "\n",
    "# 단어 사전의 크기와 임베딩 차원을 정의합니다.\n",
    "vocab_size = len(unique_stems)  # 단어 사전의 크기\n",
    "embedding_dim = 100  # 임베딩 차원\n",
    "\n",
    "# 임베딩 레이어 초기화\n",
    "embedding = nn.Embedding(vocab_size, embedding_dim)\n",
    "\n",
    "# 슬라이싱된 데이터 벡터로 변환\n",
    "total_list = []\n",
    "for sliced_recipe in tqdm(sliced_verb_noun):\n",
    "    recipe_vec = []\n",
    "    for token_list in sliced_recipe:\n",
    "        sliced_vec = []\n",
    "        for token in token_list:\n",
    "            \n",
    "            # 조리방법 사전에 있는 동사 토큰만 가져오기\n",
    "            if token in unique_stems:\n",
    "                index = unique_stems.index(token)\n",
    "                word_index = torch.LongTensor([index])\n",
    "                word_embed = embedding(word_index) # 임베딩 레이어에 통과시켜 식재료 차원(100차원)과 맞춰주기\n",
    "                word_embed = word_embed.squeeze(0)\n",
    "                sliced_vec.append(word_embed.detach().numpy())\n",
    "            \n",
    "            # 식재료는 미리 만들어둔 100차원으로 변경\n",
    "            elif token in test:\n",
    "                food_token = test[token]\n",
    "                sliced_vec.append(food_token)\n",
    "            \n",
    "            # 조리방법 사전과 식재료 사전에 모두 없는 토큰은 0으로 이루어진 100차원 어레이 추가\n",
    "            elif token == '':\n",
    "                sliced_vec.append(zero_array)\n",
    "\n",
    "        recipe_vec.append(sliced_vec)\n",
    "    total_list.append(recipe_vec)"
   ]
  },
  {
   "cell_type": "code",
   "execution_count": null,
   "id": "fa446fa0",
   "metadata": {},
   "outputs": [],
   "source": [
    "# 각 레시피 벡터 구하기\n",
    "recipe_tensor_list = [] # 레시피 별 슬라이스 된 리스트를 모델에 넣은 결과를 추가할 리스트\n",
    "for recipe in tqdm(total_list):\n",
    "    step_tensor_list = []\n",
    "    for step in recipe:\n",
    "        step = torch.tensor(step).unsqueeze(0)\n",
    "        step = step.float()\n",
    "        step = step.squeeze(-1)\n",
    "        out1, out2, out3 = model_noun(step)\n",
    "        step_tensor_list.append(out1)\n",
    "    mean_tensor = torch.mean(torch.stack(step_tensor_list), dim=0) # 레시피 별 슬라이스 된 리스트의 결과값 평균\n",
    "    recipe_tensor_list.append(mean_tensor) # 평균 낸 벡터를 레시피 벡터로 간주"
   ]
  },
  {
   "cell_type": "code",
   "execution_count": null,
   "id": "e40f7be6",
   "metadata": {},
   "outputs": [],
   "source": [
    "# 레시피별 벡터 파일에 저장 (이진 파일로 저장)\n",
    "with open('recipe_tensor_list.pkl', 'wb') as file:\n",
    "    pickle.dump(recipe_tensor_list, file)"
   ]
  }
 ],
 "metadata": {
  "kernelspec": {
   "display_name": "Python 3 (ipykernel)",
   "language": "python",
   "name": "python3"
  },
  "language_info": {
   "codemirror_mode": {
    "name": "ipython",
    "version": 3
   },
   "file_extension": ".py",
   "mimetype": "text/x-python",
   "name": "python",
   "nbconvert_exporter": "python",
   "pygments_lexer": "ipython3",
   "version": "3.9.12"
  }
 },
 "nbformat": 4,
 "nbformat_minor": 5
}
