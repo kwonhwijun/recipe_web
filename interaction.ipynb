{
 "cells": [
  {
   "cell_type": "code",
   "execution_count": 8,
   "metadata": {},
   "outputs": [],
   "source": [
    "import pandas as pd\n",
    "import numpy as np\n",
    "from sklearn.metrics.pairwise import cosine_similarity\n",
    "\n",
    "import pickle"
   ]
  },
  {
   "cell_type": "code",
   "execution_count": 10,
   "metadata": {},
   "outputs": [],
   "source": [
    "# 데이터 불러오기\n",
    "\n",
    "# 1. 레시피, 식재료 딕셔너리 읽어오기 (100차원)\n",
    "with open(r'data\\recipe\\recipe.pickle', 'rb') as file:\n",
    "    recipe_dict = pickle.load(file)\n",
    "\n",
    "with open(r'data\\recipe\\ingre.pickle', 'rb') as file:\n",
    "    ingre_dict = pickle.load(file)\n",
    "\n",
    "with open(r'data\\recipe\\category.pickle', 'rb') as file:\n",
    "    category_dict = pickle.load(file)\n",
    "\n",
    "rec_title = list(recipe_dict.keys()) # 키 리스트\n",
    "rec_vec = [recipe_dict[rec_title[i]] for i in range(len(recipe_dict))]\n",
    "\n",
    "# 2. 상호작용 딕셔너리 불러오기 \n",
    "hos = pd.read_csv(r'data\\med\\disease_interaction.csv', encoding = 'cp949')\n",
    "dis_dict= {hos['질병명']: {'권장영양소' : hos['권장영양소'], '주의영양소' : hos['주의영양소'], '권장식재료' : hos['권장식재료'], '주의식재료' : hos['주의식재료']} for _, hos in hos.iterrows()}\n",
    "\n",
    "hos = pd.read_csv(r'data\\med\\med_interaction.csv', encoding = 'cp949')\n",
    "med_dict= {hos['dname']: {'권장영양소' : hos['권장영양소'], '주의영양소' : hos['주의영양소'], '권장식재료' : hos['권장식재료'], '주의식재료' : hos['주의식재료']} for _, hos in hos.iterrows()}"
   ]
  },
  {
   "cell_type": "code",
   "execution_count": 14,
   "metadata": {},
   "outputs": [],
   "source": [
    "def my_interaction(med_list, dis_list):\n",
    "    interaction = {'권장식재료' : [], '주의식재료' : [], '권장영양소' : [], '주의영양소' : []}\n",
    "    # 약물 정보 반영\n",
    "    for med in med_list :\n",
    "        for inter in interaction.keys():\n",
    "            if not pd.isna(med_dict[med][inter]):\n",
    "                interaction[inter].extend([value.strip() for value in med_dict[med][inter].split(',')])\n",
    "    # 질병 정보 반영\n",
    "    for dis in dis_list :\n",
    "        for inter in interaction.keys() :\n",
    "            if not pd.isna(dis_dict[dis][inter]):\n",
    "                interaction[inter].extend([value.strip() for value in dis_dict[dis][inter].split(',')])\n",
    "    return interaction\n",
    "\n",
    "# my_interaction(['가나플럭스정20/1100mg', '본비바정150mg' ], ['2형 당뇨병', '뇌졸중', '구내염'])\n",
    "# => 권장식재료, 주의식재료, 권장영양소, 주의영양소 리스트가 나옴"
   ]
  },
  {
   "cell_type": "code",
   "execution_count": 16,
   "metadata": {},
   "outputs": [],
   "source": [
    "def recommend(my_med_list, my_dis_list, my_food):\n",
    "    my_inter_dict = my_interaction(my_med_list, my_dis_list)\n",
    "    my_food_vec = category_dict[my_food]\n",
    "    my_food_vec_recommend = my_food_vec\n",
    "    for food in my_inter_dict['권장식재료']:\n",
    "        if food in ingre_dict :\n",
    "            my_food_vec_recommend += 0.01* ingre_dict[food]\n",
    "    for food in my_inter_dict['주의식재료']:\n",
    "        if food in ingre_dict :\n",
    "            my_food_vec_recommend -=  0.01 * ingre_dict[food]\n",
    "    sim = cosine_similarity([my_food_vec_recommend], rec_vec)[0]\n",
    "    recommend_idx = np.argsort(sim)[::-1][:5]\n",
    "    return [rec_title[i] for i in recommend_idx]"
   ]
  },
  {
   "cell_type": "code",
   "execution_count": 19,
   "metadata": {},
   "outputs": [
    {
     "data": {
      "text/plain": [
       "['해물만두칼국수 만들기 -온라인수업 아이 간단 점심',\n",
       " '감자전 만드는법 장마철 감자부침개 해먹기',\n",
       " '간식과 술안주에도 좋은 감자 해쉬브라운 만드는 법',\n",
       " '감자탕 만드는법',\n",
       " '감자 스테이크']"
      ]
     },
     "execution_count": 19,
     "metadata": {},
     "output_type": "execute_result"
    }
   ],
   "source": [
    "recommend(['가나플럭스정20/1100mg', '본비바정150mg' ], ['2형 당뇨병', '뇌졸중', '구내염'], '찌개')"
   ]
  },
  {
   "cell_type": "code",
   "execution_count": 21,
   "metadata": {},
   "outputs": [
    {
     "data": {
      "text/plain": [
       "['바삭바삭한 감자 고로케',\n",
       " '맑은 계란감자국 레시피',\n",
       " '감자전 비 오는날 더 맛있는 감자 스팸 전',\n",
       " '노오븐 통닭구이',\n",
       " '감자채전 만들기. 초보자도 만들수 있는 바삭한 베이컨감자전.']"
      ]
     },
     "execution_count": 21,
     "metadata": {},
     "output_type": "execute_result"
    }
   ],
   "source": [
    "recommend(['가나플럭스정20/1100mg',], [ '뇌졸중', '구내염'], '돈까스')"
   ]
  }
 ],
 "metadata": {
  "kernelspec": {
   "display_name": "Python 3",
   "language": "python",
   "name": "python3"
  },
  "language_info": {
   "codemirror_mode": {
    "name": "ipython",
    "version": 3
   },
   "file_extension": ".py",
   "mimetype": "text/x-python",
   "name": "python",
   "nbconvert_exporter": "python",
   "pygments_lexer": "ipython3",
   "version": "3.11.4"
  }
 },
 "nbformat": 4,
 "nbformat_minor": 2
}
